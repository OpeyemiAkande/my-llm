{
 "cells": [
  {
   "cell_type": "code",
   "execution_count": 43,
   "id": "c7ae5b77",
   "metadata": {},
   "outputs": [],
   "source": [
    "import torch"
   ]
  },
  {
   "cell_type": "code",
   "execution_count": 5,
   "id": "8b967494",
   "metadata": {},
   "outputs": [
    {
     "name": "stdout",
     "output_type": "stream",
     "text": [
      "tiktoken version 0.7.0\n"
     ]
    }
   ],
   "source": [
    "# import importlib.metadata\n",
    "# import tiktoken\n",
    "\n",
    "# print(\"tiktoken version:\", importlib.metadata.version(\"tiktoken\"))\n",
    "\n",
    "import importlib.metadata\n",
    "import tiktoken\n",
    "\n",
    "print (\"tiktoken version\", importlib.metadata.version(\"tiktoken\"))"
   ]
  },
  {
   "cell_type": "code",
   "execution_count": 6,
   "id": "dc2faf4e",
   "metadata": {},
   "outputs": [],
   "source": [
    "# Dataset and DataLoader\n",
    "from torch.utils.data import Dataset, DataLoader\n",
    "from typing import Any\n",
    "\n",
    "class GPTDatasetV1(Dataset): # type: ignore\n",
    "  def __init__(self, txt: str, tokenizer: Any, max_length: int, stride: int):\n",
    "    self.input_ids: list[int] = []\n",
    "    self.target_ids: list[int] = []\n",
    "\n",
    "    token_ids = tokenizer.encode(txt, allowed_special={\"<|endoftext|>\"})\n",
    "    assert len(token_ids) > max_length, \"Number of tokenized inputs must at least be equal to max_length+1\"\n",
    "\n",
    "    for i in range(0, len(token_ids) - max_length, stride):\n",
    "      input_chunk = token_ids[i:i + max_length]\n",
    "      target_chunk = token_ids[i + 1: i + max_length + 1]\n",
    "      self.input_ids.append(torch.tensor(input_chunk))  # type: ignore\n",
    "      self.target_ids.append(torch.tensor(target_chunk))# type: ignore\n",
    "\n",
    "  def __len__(self):\n",
    "    return len(self.input_ids)\n",
    "  \n",
    "  def __getitem__(self, idx: int):\n",
    "    return self.input_ids[idx],self.target_ids[idx]\n",
    "  \n",
    "\n",
    "def create_dataloader_v1(txt: str, batch_size: int = 4, \n",
    "                         max_length: int = 256, stride: int=128,\n",
    "                        shuffle: bool=True, drop_last: bool = True,\n",
    "                        num_workers: int=0):\n",
    "  tokenizer = tiktoken.get_encoding(\"gpt2\")\n",
    "  dataset = GPTDatasetV1(txt, tokenizer, max_length, stride)\n",
    "  dataloader = DataLoader(dataset, batch_size=batch_size, shuffle=shuffle,  # type: ignore\n",
    "                          drop_last=drop_last, num_workers=num_workers)\n",
    "  return dataloader"
   ]
  },
  {
   "cell_type": "code",
   "execution_count": 19,
   "id": "f26bc8da",
   "metadata": {},
   "outputs": [],
   "source": [
    "class GPTDatasetV2(Dataset):\n",
    "  def __init__(self, text: str, tokenizer: Any, max_length: int, stride: int):\n",
    "    self.input_ids: list[int] = []\n",
    "    self.target_ids: list[int] = []\n",
    "\n",
    "    token_ids = tokenizer.encode(text, allowed_special={\"<|endoftext|>\"})\n",
    "    assert len(token_ids) > max_length, \"Number of tokenized inputs must be greater than max_length\"\n",
    "\n",
    "    for i in range(0, len(token_ids) - max_length, stride):\n",
    "      input_chunk = token_ids[i: i+max_length]\n",
    "      target_chunk = token_ids[i+1: i+max_length + 1]\n",
    "      self.input_ids.append(torch.tensor(input_chunk))\n",
    "      self.target_ids.append(torch.tensor(target_chunk))\n",
    "\n",
    "  def __len__(self): \n",
    "    return len(self.input_ids)\n",
    "\n",
    "  def __getitem__(self, idx: int):\n",
    "    return self.input_ids[idx], self.target_ids[idx]\n",
    "\n",
    "def create_dataloader_v2(txt: str, batch_size: int = 4, max_length: int = 256,\n",
    "                        stride: int = 128, shuffle: bool = True, drop_last: bool = True,\n",
    "                        num_workers: int = 0):\n",
    "  tokenizer = tiktoken.get_encoding(\"gpt2\")\n",
    "  dataset = GPTDatasetV2(txt, tokenizer, max_length, stride)\n",
    "  dataloader = DataLoader(dataset, batch_size=batch_size, shuffle=shuffle,\n",
    "                          drop_last=drop_last, num_workers=num_workers)\n",
    "  return dataloader\n",
    "  "
   ]
  },
  {
   "cell_type": "code",
   "execution_count": 18,
   "id": "330f1073",
   "metadata": {},
   "outputs": [],
   "source": [
    "with open(\"the-verdict.txt\", \"r\", encoding=\"utf-8\") as f:\n",
    "  raw_text = f.read()"
   ]
  },
  {
   "cell_type": "code",
   "execution_count": 20,
   "id": "da76a914",
   "metadata": {},
   "outputs": [
    {
     "name": "stdout",
     "output_type": "stream",
     "text": [
      "[tensor([[  40,  367, 2885, 1464]]), tensor([[ 367, 2885, 1464, 1807]])]\n"
     ]
    }
   ],
   "source": [
    "dataloader = create_dataloader_v2(\n",
    "  raw_text, batch_size=1, max_length=4, stride=1, shuffle=False\n",
    ")\n",
    "\n",
    "data_iter = iter(dataloader)\n",
    "first_batch = next(data_iter)\n",
    "print(first_batch)"
   ]
  },
  {
   "cell_type": "code",
   "execution_count": 21,
   "id": "7f996989",
   "metadata": {},
   "outputs": [
    {
     "name": "stdout",
     "output_type": "stream",
     "text": [
      "[tensor([[ 367, 2885, 1464, 1807]]), tensor([[2885, 1464, 1807, 3619]])]\n"
     ]
    }
   ],
   "source": [
    "second_batch = next(data_iter)\n",
    "print(second_batch)"
   ]
  },
  {
   "cell_type": "code",
   "execution_count": 14,
   "id": "cbe86899",
   "metadata": {},
   "outputs": [
    {
     "name": "stdout",
     "output_type": "stream",
     "text": [
      "Inputs:\n",
      " tensor([[  40,  367, 2885, 1464],\n",
      "        [1807, 3619,  402,  271]])\n",
      "\n",
      "Targets:\n",
      " tensor([[  367,  2885,  1464,  1807],\n",
      "        [ 3619,   402,   271, 10899]])\n"
     ]
    }
   ],
   "source": [
    "dataloader = create_dataloader_v1(raw_text, batch_size=2, max_length=4, stride=4, shuffle=False)\n",
    "\n",
    "data_iter = iter(dataloader)\n",
    "inputs, targets = next(data_iter)\n",
    "print(\"Inputs:\\n\", inputs)\n",
    "print(\"\\nTargets:\\n\", targets)"
   ]
  },
  {
   "cell_type": "code",
   "execution_count": 15,
   "id": "eb082198",
   "metadata": {},
   "outputs": [
    {
     "name": "stdout",
     "output_type": "stream",
     "text": [
      "[tensor([[10899,  2138,   257,  7026],\n",
      "        [15632,   438,  2016,   257]]), tensor([[ 2138,   257,  7026, 15632],\n",
      "        [  438,  2016,   257,   922]])]\n"
     ]
    }
   ],
   "source": [
    "second_batch = next(data_iter)\n",
    "print(second_batch)"
   ]
  },
  {
   "cell_type": "code",
   "execution_count": 22,
   "id": "0d307bb3",
   "metadata": {},
   "outputs": [],
   "source": [
    "# Creating Token Embeddings\n",
    "\n",
    "input_ids = torch.tensor([2, 3, 5, 1])\n"
   ]
  },
  {
   "cell_type": "code",
   "execution_count": 24,
   "id": "0b0aacd0",
   "metadata": {},
   "outputs": [],
   "source": [
    "vocab_size = 6\n",
    "output_dim = 3\n",
    "\n",
    "torch.manual_seed(123)\n",
    "embedding_layer = torch.nn.Embedding(vocab_size, output_dim)"
   ]
  },
  {
   "cell_type": "code",
   "execution_count": 25,
   "id": "d8ec4eb9",
   "metadata": {},
   "outputs": [
    {
     "name": "stdout",
     "output_type": "stream",
     "text": [
      "Parameter containing:\n",
      "tensor([[ 0.3374, -0.1778, -0.1690],\n",
      "        [ 0.9178,  1.5810,  1.3010],\n",
      "        [ 1.2753, -0.2010, -0.1606],\n",
      "        [-0.4015,  0.9666, -1.1481],\n",
      "        [-1.1589,  0.3255, -0.6315],\n",
      "        [-2.8400, -0.7849, -1.4096]], requires_grad=True)\n"
     ]
    }
   ],
   "source": [
    "print(embedding_layer.weight)"
   ]
  },
  {
   "cell_type": "code",
   "execution_count": 26,
   "id": "4a938ee7",
   "metadata": {},
   "outputs": [
    {
     "name": "stdout",
     "output_type": "stream",
     "text": [
      "tensor([[-0.4015,  0.9666, -1.1481]], grad_fn=<EmbeddingBackward0>)\n"
     ]
    }
   ],
   "source": [
    "print(embedding_layer(torch.tensor([3])))"
   ]
  },
  {
   "cell_type": "code",
   "execution_count": 27,
   "id": "a3e93933",
   "metadata": {},
   "outputs": [
    {
     "name": "stdout",
     "output_type": "stream",
     "text": [
      "tensor([[ 1.2753, -0.2010, -0.1606],\n",
      "        [-0.4015,  0.9666, -1.1481],\n",
      "        [-2.8400, -0.7849, -1.4096],\n",
      "        [ 0.9178,  1.5810,  1.3010]], grad_fn=<EmbeddingBackward0>)\n"
     ]
    }
   ],
   "source": [
    "print(embedding_layer(input_ids))"
   ]
  },
  {
   "cell_type": "code",
   "execution_count": 28,
   "id": "f2635b6b",
   "metadata": {},
   "outputs": [],
   "source": [
    "vocab_size = 50257\n",
    "output_dim = 256\n",
    "\n",
    "token_embedding_layer = torch.nn.Embedding(vocab_size, output_dim)"
   ]
  },
  {
   "cell_type": "code",
   "execution_count": 29,
   "id": "f62f8d6a",
   "metadata": {},
   "outputs": [],
   "source": [
    "max_length = 4\n",
    "dataloader = create_dataloader_v1(\n",
    "  raw_text, batch_size=8, max_length=max_length,\n",
    "  stride=max_length, shuffle=False\n",
    ")\n",
    "data_iter = iter(dataloader)\n",
    "inputs, targets = next(data_iter)"
   ]
  },
  {
   "cell_type": "code",
   "execution_count": 30,
   "id": "3aa9ee8e",
   "metadata": {},
   "outputs": [
    {
     "name": "stdout",
     "output_type": "stream",
     "text": [
      "Token IDs:\n",
      " tensor([[   40,   367,  2885,  1464],\n",
      "        [ 1807,  3619,   402,   271],\n",
      "        [10899,  2138,   257,  7026],\n",
      "        [15632,   438,  2016,   257],\n",
      "        [  922,  5891,  1576,   438],\n",
      "        [  568,   340,   373,   645],\n",
      "        [ 1049,  5975,   284,   502],\n",
      "        [  284,  3285,   326,    11]])\n",
      "\n",
      "Input shape:\n",
      " torch.Size([8, 4])\n"
     ]
    }
   ],
   "source": [
    "print(\"Token IDs:\\n\", inputs)\n",
    "print(\"\\nInput shape:\\n\", inputs.shape)"
   ]
  },
  {
   "cell_type": "code",
   "execution_count": 36,
   "id": "3eeeaf4a",
   "metadata": {},
   "outputs": [
    {
     "name": "stdout",
     "output_type": "stream",
     "text": [
      "torch.Size([8, 4, 256])\n"
     ]
    }
   ],
   "source": [
    "token_embeddings = token_embedding_layer(inputs)\n",
    "print(token_embeddings.shape)\n"
   ]
  },
  {
   "cell_type": "code",
   "execution_count": 38,
   "id": "c6936a8d",
   "metadata": {},
   "outputs": [
    {
     "name": "stdout",
     "output_type": "stream",
     "text": [
      "Parameter containing:\n",
      "tensor([[ 0.3544, -1.1020,  1.6459,  ..., -0.6570, -0.4390, -0.0461],\n",
      "        [-2.1400, -2.5262,  1.4213,  ..., -1.1446,  2.2331, -1.3071],\n",
      "        [ 0.2795, -1.1833, -0.0892,  ...,  0.4960,  0.8412,  0.0323],\n",
      "        [-0.4270, -2.8876, -1.3638,  ..., -0.4342, -0.1795,  1.0636]],\n",
      "       requires_grad=True)\n"
     ]
    }
   ],
   "source": [
    "context_length = max_length\n",
    "pos_embedding_layer = torch.nn.Embedding(context_length, output_dim)\n",
    "\n",
    "print(pos_embedding_layer.weight)"
   ]
  },
  {
   "cell_type": "code",
   "execution_count": 40,
   "id": "a0db1991",
   "metadata": {},
   "outputs": [
    {
     "name": "stdout",
     "output_type": "stream",
     "text": [
      "torch.Size([4, 256])\n",
      "tensor([[ 0.3544, -1.1020,  1.6459,  ..., -0.6570, -0.4390, -0.0461],\n",
      "        [-2.1400, -2.5262,  1.4213,  ..., -1.1446,  2.2331, -1.3071],\n",
      "        [ 0.2795, -1.1833, -0.0892,  ...,  0.4960,  0.8412,  0.0323],\n",
      "        [-0.4270, -2.8876, -1.3638,  ..., -0.4342, -0.1795,  1.0636]],\n",
      "       grad_fn=<EmbeddingBackward0>)\n"
     ]
    }
   ],
   "source": [
    "\n",
    "pos_embeddings = pos_embedding_layer(torch.arange(max_length))\n",
    "print(pos_embeddings.shape)\n",
    "print(pos_embeddings)"
   ]
  },
  {
   "cell_type": "code",
   "execution_count": 42,
   "id": "94507d27",
   "metadata": {},
   "outputs": [
    {
     "name": "stdout",
     "output_type": "stream",
     "text": [
      "torch.Size([8, 4, 256])\n",
      "tensor([[[ 8.4575e-01,  2.1894e-02,  3.1048e+00,  ..., -1.0565e+00,\n",
      "          -2.3125e+00, -1.9061e-01],\n",
      "         [-1.6919e+00, -2.2725e+00,  1.1558e+00,  ..., -6.4488e-01,\n",
      "           1.0340e+00, -2.4915e+00],\n",
      "         [ 2.8798e-02, -1.2379e+00,  5.7950e-01,  ...,  1.4578e+00,\n",
      "           3.2149e+00, -2.0498e-02],\n",
      "         [ 5.1875e-01, -2.0218e+00,  2.5532e-01,  ..., -8.8868e-01,\n",
      "          -9.2549e-01,  1.4119e+00]],\n",
      "\n",
      "        [[ 1.9005e+00,  6.3488e-01,  8.6119e-01,  ..., -7.5740e-01,\n",
      "           4.1942e-01, -3.8816e-01],\n",
      "         [-4.0022e+00, -2.7175e+00,  1.0401e+00,  ..., -2.2610e-02,\n",
      "           1.8835e+00, -6.9800e-01],\n",
      "         [ 2.2642e+00, -1.8316e+00, -2.3071e-01,  ...,  1.1194e-01,\n",
      "          -9.4324e-02,  1.4801e+00],\n",
      "         [ 5.3777e-01, -1.5902e+00, -2.9845e+00,  ...,  7.1201e-01,\n",
      "           1.4002e+00,  1.4605e+00]],\n",
      "\n",
      "        [[-4.1687e-01, -4.4478e-01,  1.8122e+00,  ..., -1.4613e+00,\n",
      "          -3.8482e-01,  6.9653e-01],\n",
      "         [-1.3354e+00, -2.0215e+00,  2.7135e+00,  ...,  3.2022e-01,\n",
      "           2.6428e+00, -9.8654e-01],\n",
      "         [ 3.5894e-01, -2.9469e+00,  4.8573e-01,  ...,  2.6783e+00,\n",
      "           2.6643e+00, -3.3115e-01],\n",
      "         [-2.8950e-04, -2.9523e+00, -7.9520e-01,  ..., -9.5516e-01,\n",
      "           1.1270e+00,  1.9109e+00]],\n",
      "\n",
      "        ...,\n",
      "\n",
      "        [[-1.2611e+00, -1.4096e-01, -9.9774e-01,  ..., -1.6214e+00,\n",
      "           6.4985e-01,  1.5923e+00],\n",
      "         [-2.5384e+00, -3.4496e+00,  1.0500e-01,  ..., -2.3028e+00,\n",
      "           1.1017e+00, -3.3237e-01],\n",
      "         [ 8.8841e-01, -6.5043e-01,  1.0873e-01,  ..., -1.3728e-01,\n",
      "          -2.6109e-01,  1.6615e+00],\n",
      "         [-5.9264e-02, -3.0577e+00, -2.7425e+00,  ...,  2.7058e-01,\n",
      "           3.2327e-01,  1.0062e+00]],\n",
      "\n",
      "        [[ 2.2650e-01, -4.8652e-01,  3.3633e+00,  ..., -2.7811e-01,\n",
      "          -9.1422e-01,  1.4797e+00],\n",
      "         [-1.6538e+00, -4.2367e+00,  1.8629e+00,  ..., -9.9708e-01,\n",
      "           3.9373e-01,  5.6841e-01],\n",
      "         [-6.7782e-01, -4.8264e-01,  1.2687e+00,  ...,  2.4338e+00,\n",
      "          -1.0640e+00, -1.1493e+00],\n",
      "         [-2.2680e-01, -3.6481e+00, -2.8808e+00,  ..., -4.6479e-01,\n",
      "          -5.4508e-01,  9.2376e-01]],\n",
      "\n",
      "        [[-6.0285e-01, -4.0130e-01,  3.0039e+00,  ...,  1.2808e+00,\n",
      "          -2.3442e+00, -1.2276e+00],\n",
      "         [-2.2031e+00, -3.1810e+00,  3.9173e-01,  ..., -2.0984e+00,\n",
      "           1.7305e+00, -1.4199e+00],\n",
      "         [ 8.8271e-01, -2.8498e-01,  1.9829e+00,  ...,  2.0202e+00,\n",
      "           1.0442e+00, -2.6790e-01],\n",
      "         [ 7.0045e-01, -2.9958e+00, -1.5833e+00,  ...,  7.1657e-02,\n",
      "          -1.9933e+00,  9.9359e-01]]], grad_fn=<AddBackward0>)\n"
     ]
    }
   ],
   "source": [
    "input_embeddings = token_embeddings + pos_embeddings\n",
    "print(input_embeddings.shape)\n",
    "\n",
    "print(input_embeddings)"
   ]
  }
 ],
 "metadata": {
  "kernelspec": {
   "display_name": "torchenv",
   "language": "python",
   "name": "python3"
  },
  "language_info": {
   "codemirror_mode": {
    "name": "ipython",
    "version": 3
   },
   "file_extension": ".py",
   "mimetype": "text/x-python",
   "name": "python",
   "nbconvert_exporter": "python",
   "pygments_lexer": "ipython3",
   "version": "3.12.1"
  }
 },
 "nbformat": 4,
 "nbformat_minor": 5
}
